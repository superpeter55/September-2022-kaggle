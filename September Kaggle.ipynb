{
 "cells": [
  {
   "cell_type": "code",
   "execution_count": 1,
   "metadata": {
    "scrolled": true
   },
   "outputs": [],
   "source": [
    "import pandas as pd\n",
    "import matplotlib.pyplot as plt\n",
    "import numpy as np\n",
    "import datetime\n",
    "import holidays\n",
    "\n",
    "from sklearn.ensemble import RandomForestClassifier\n",
    "from sklearn.preprocessing import OneHotEncoder"
   ]
  },
  {
   "cell_type": "markdown",
   "metadata": {},
   "source": [
    "# Loading Data"
   ]
  },
  {
   "cell_type": "code",
   "execution_count": 2,
   "metadata": {},
   "outputs": [],
   "source": [
    "# Loading Train and Test\n",
    "train = pd.read_csv('train.csv')\n",
    "test = pd.read_csv('test.csv')"
   ]
  },
  {
   "cell_type": "code",
   "execution_count": 3,
   "metadata": {
    "scrolled": false
   },
   "outputs": [
    {
     "data": {
      "text/html": [
       "<div>\n",
       "<style scoped>\n",
       "    .dataframe tbody tr th:only-of-type {\n",
       "        vertical-align: middle;\n",
       "    }\n",
       "\n",
       "    .dataframe tbody tr th {\n",
       "        vertical-align: top;\n",
       "    }\n",
       "\n",
       "    .dataframe thead th {\n",
       "        text-align: right;\n",
       "    }\n",
       "</style>\n",
       "<table border=\"1\" class=\"dataframe\">\n",
       "  <thead>\n",
       "    <tr style=\"text-align: right;\">\n",
       "      <th></th>\n",
       "      <th>row_id</th>\n",
       "      <th>date</th>\n",
       "      <th>country</th>\n",
       "      <th>store</th>\n",
       "      <th>product</th>\n",
       "      <th>num_sold</th>\n",
       "    </tr>\n",
       "  </thead>\n",
       "  <tbody>\n",
       "    <tr>\n",
       "      <th>0</th>\n",
       "      <td>0</td>\n",
       "      <td>2017-01-01</td>\n",
       "      <td>Belgium</td>\n",
       "      <td>KaggleMart</td>\n",
       "      <td>Kaggle Advanced Techniques</td>\n",
       "      <td>663</td>\n",
       "    </tr>\n",
       "    <tr>\n",
       "      <th>1</th>\n",
       "      <td>1</td>\n",
       "      <td>2017-01-01</td>\n",
       "      <td>Belgium</td>\n",
       "      <td>KaggleMart</td>\n",
       "      <td>Kaggle Getting Started</td>\n",
       "      <td>615</td>\n",
       "    </tr>\n",
       "    <tr>\n",
       "      <th>2</th>\n",
       "      <td>2</td>\n",
       "      <td>2017-01-01</td>\n",
       "      <td>Belgium</td>\n",
       "      <td>KaggleMart</td>\n",
       "      <td>Kaggle Recipe Book</td>\n",
       "      <td>480</td>\n",
       "    </tr>\n",
       "    <tr>\n",
       "      <th>3</th>\n",
       "      <td>3</td>\n",
       "      <td>2017-01-01</td>\n",
       "      <td>Belgium</td>\n",
       "      <td>KaggleMart</td>\n",
       "      <td>Kaggle for Kids: One Smart Goose</td>\n",
       "      <td>710</td>\n",
       "    </tr>\n",
       "    <tr>\n",
       "      <th>4</th>\n",
       "      <td>4</td>\n",
       "      <td>2017-01-01</td>\n",
       "      <td>Belgium</td>\n",
       "      <td>KaggleRama</td>\n",
       "      <td>Kaggle Advanced Techniques</td>\n",
       "      <td>240</td>\n",
       "    </tr>\n",
       "  </tbody>\n",
       "</table>\n",
       "</div>"
      ],
      "text/plain": [
       "   row_id        date  country       store                           product  \\\n",
       "0       0  2017-01-01  Belgium  KaggleMart        Kaggle Advanced Techniques   \n",
       "1       1  2017-01-01  Belgium  KaggleMart            Kaggle Getting Started   \n",
       "2       2  2017-01-01  Belgium  KaggleMart                Kaggle Recipe Book   \n",
       "3       3  2017-01-01  Belgium  KaggleMart  Kaggle for Kids: One Smart Goose   \n",
       "4       4  2017-01-01  Belgium  KaggleRama        Kaggle Advanced Techniques   \n",
       "\n",
       "   num_sold  \n",
       "0       663  \n",
       "1       615  \n",
       "2       480  \n",
       "3       710  \n",
       "4       240  "
      ]
     },
     "execution_count": 3,
     "metadata": {},
     "output_type": "execute_result"
    }
   ],
   "source": [
    "train.head()"
   ]
  },
  {
   "cell_type": "code",
   "execution_count": 4,
   "metadata": {},
   "outputs": [
    {
     "data": {
      "text/html": [
       "<div>\n",
       "<style scoped>\n",
       "    .dataframe tbody tr th:only-of-type {\n",
       "        vertical-align: middle;\n",
       "    }\n",
       "\n",
       "    .dataframe tbody tr th {\n",
       "        vertical-align: top;\n",
       "    }\n",
       "\n",
       "    .dataframe thead th {\n",
       "        text-align: right;\n",
       "    }\n",
       "</style>\n",
       "<table border=\"1\" class=\"dataframe\">\n",
       "  <thead>\n",
       "    <tr style=\"text-align: right;\">\n",
       "      <th></th>\n",
       "      <th>row_id</th>\n",
       "      <th>date</th>\n",
       "      <th>country</th>\n",
       "      <th>store</th>\n",
       "      <th>product</th>\n",
       "      <th>num_sold</th>\n",
       "    </tr>\n",
       "  </thead>\n",
       "  <tbody>\n",
       "    <tr>\n",
       "      <th>70123</th>\n",
       "      <td>70123</td>\n",
       "      <td>2020-12-31</td>\n",
       "      <td>Spain</td>\n",
       "      <td>KaggleMart</td>\n",
       "      <td>Kaggle for Kids: One Smart Goose</td>\n",
       "      <td>614</td>\n",
       "    </tr>\n",
       "    <tr>\n",
       "      <th>70124</th>\n",
       "      <td>70124</td>\n",
       "      <td>2020-12-31</td>\n",
       "      <td>Spain</td>\n",
       "      <td>KaggleRama</td>\n",
       "      <td>Kaggle Advanced Techniques</td>\n",
       "      <td>215</td>\n",
       "    </tr>\n",
       "    <tr>\n",
       "      <th>70125</th>\n",
       "      <td>70125</td>\n",
       "      <td>2020-12-31</td>\n",
       "      <td>Spain</td>\n",
       "      <td>KaggleRama</td>\n",
       "      <td>Kaggle Getting Started</td>\n",
       "      <td>158</td>\n",
       "    </tr>\n",
       "    <tr>\n",
       "      <th>70126</th>\n",
       "      <td>70126</td>\n",
       "      <td>2020-12-31</td>\n",
       "      <td>Spain</td>\n",
       "      <td>KaggleRama</td>\n",
       "      <td>Kaggle Recipe Book</td>\n",
       "      <td>135</td>\n",
       "    </tr>\n",
       "    <tr>\n",
       "      <th>70127</th>\n",
       "      <td>70127</td>\n",
       "      <td>2020-12-31</td>\n",
       "      <td>Spain</td>\n",
       "      <td>KaggleRama</td>\n",
       "      <td>Kaggle for Kids: One Smart Goose</td>\n",
       "      <td>202</td>\n",
       "    </tr>\n",
       "  </tbody>\n",
       "</table>\n",
       "</div>"
      ],
      "text/plain": [
       "       row_id        date country       store  \\\n",
       "70123   70123  2020-12-31   Spain  KaggleMart   \n",
       "70124   70124  2020-12-31   Spain  KaggleRama   \n",
       "70125   70125  2020-12-31   Spain  KaggleRama   \n",
       "70126   70126  2020-12-31   Spain  KaggleRama   \n",
       "70127   70127  2020-12-31   Spain  KaggleRama   \n",
       "\n",
       "                                product  num_sold  \n",
       "70123  Kaggle for Kids: One Smart Goose       614  \n",
       "70124        Kaggle Advanced Techniques       215  \n",
       "70125            Kaggle Getting Started       158  \n",
       "70126                Kaggle Recipe Book       135  \n",
       "70127  Kaggle for Kids: One Smart Goose       202  "
      ]
     },
     "execution_count": 4,
     "metadata": {},
     "output_type": "execute_result"
    }
   ],
   "source": [
    "train.tail()"
   ]
  },
  {
   "cell_type": "code",
   "execution_count": 5,
   "metadata": {
    "scrolled": true
   },
   "outputs": [
    {
     "data": {
      "text/html": [
       "<div>\n",
       "<style scoped>\n",
       "    .dataframe tbody tr th:only-of-type {\n",
       "        vertical-align: middle;\n",
       "    }\n",
       "\n",
       "    .dataframe tbody tr th {\n",
       "        vertical-align: top;\n",
       "    }\n",
       "\n",
       "    .dataframe thead th {\n",
       "        text-align: right;\n",
       "    }\n",
       "</style>\n",
       "<table border=\"1\" class=\"dataframe\">\n",
       "  <thead>\n",
       "    <tr style=\"text-align: right;\">\n",
       "      <th></th>\n",
       "      <th>row_id</th>\n",
       "      <th>date</th>\n",
       "      <th>country</th>\n",
       "      <th>store</th>\n",
       "      <th>product</th>\n",
       "    </tr>\n",
       "  </thead>\n",
       "  <tbody>\n",
       "    <tr>\n",
       "      <th>0</th>\n",
       "      <td>70128</td>\n",
       "      <td>2021-01-01</td>\n",
       "      <td>Belgium</td>\n",
       "      <td>KaggleMart</td>\n",
       "      <td>Kaggle Advanced Techniques</td>\n",
       "    </tr>\n",
       "    <tr>\n",
       "      <th>1</th>\n",
       "      <td>70129</td>\n",
       "      <td>2021-01-01</td>\n",
       "      <td>Belgium</td>\n",
       "      <td>KaggleMart</td>\n",
       "      <td>Kaggle Getting Started</td>\n",
       "    </tr>\n",
       "    <tr>\n",
       "      <th>2</th>\n",
       "      <td>70130</td>\n",
       "      <td>2021-01-01</td>\n",
       "      <td>Belgium</td>\n",
       "      <td>KaggleMart</td>\n",
       "      <td>Kaggle Recipe Book</td>\n",
       "    </tr>\n",
       "    <tr>\n",
       "      <th>3</th>\n",
       "      <td>70131</td>\n",
       "      <td>2021-01-01</td>\n",
       "      <td>Belgium</td>\n",
       "      <td>KaggleMart</td>\n",
       "      <td>Kaggle for Kids: One Smart Goose</td>\n",
       "    </tr>\n",
       "    <tr>\n",
       "      <th>4</th>\n",
       "      <td>70132</td>\n",
       "      <td>2021-01-01</td>\n",
       "      <td>Belgium</td>\n",
       "      <td>KaggleRama</td>\n",
       "      <td>Kaggle Advanced Techniques</td>\n",
       "    </tr>\n",
       "  </tbody>\n",
       "</table>\n",
       "</div>"
      ],
      "text/plain": [
       "   row_id        date  country       store                           product\n",
       "0   70128  2021-01-01  Belgium  KaggleMart        Kaggle Advanced Techniques\n",
       "1   70129  2021-01-01  Belgium  KaggleMart            Kaggle Getting Started\n",
       "2   70130  2021-01-01  Belgium  KaggleMart                Kaggle Recipe Book\n",
       "3   70131  2021-01-01  Belgium  KaggleMart  Kaggle for Kids: One Smart Goose\n",
       "4   70132  2021-01-01  Belgium  KaggleRama        Kaggle Advanced Techniques"
      ]
     },
     "execution_count": 5,
     "metadata": {},
     "output_type": "execute_result"
    }
   ],
   "source": [
    "test.head()"
   ]
  },
  {
   "cell_type": "markdown",
   "metadata": {},
   "source": [
    "# EDA"
   ]
  },
  {
   "cell_type": "code",
   "execution_count": 6,
   "metadata": {},
   "outputs": [
    {
     "data": {
      "text/plain": [
       "(70128, 6)"
      ]
     },
     "execution_count": 6,
     "metadata": {},
     "output_type": "execute_result"
    }
   ],
   "source": [
    "train.shape"
   ]
  },
  {
   "cell_type": "code",
   "execution_count": 7,
   "metadata": {},
   "outputs": [
    {
     "data": {
      "text/plain": [
       "(17520, 5)"
      ]
     },
     "execution_count": 7,
     "metadata": {},
     "output_type": "execute_result"
    }
   ],
   "source": [
    "test.shape"
   ]
  },
  {
   "cell_type": "code",
   "execution_count": 8,
   "metadata": {},
   "outputs": [
    {
     "data": {
      "text/plain": [
       "array(['KaggleMart', 'KaggleRama'], dtype=object)"
      ]
     },
     "execution_count": 8,
     "metadata": {},
     "output_type": "execute_result"
    }
   ],
   "source": [
    "train['store'].unique()"
   ]
  },
  {
   "cell_type": "code",
   "execution_count": 9,
   "metadata": {},
   "outputs": [
    {
     "data": {
      "text/plain": [
       "array(['Belgium', 'France', 'Germany', 'Italy', 'Poland', 'Spain'],\n",
       "      dtype=object)"
      ]
     },
     "execution_count": 9,
     "metadata": {},
     "output_type": "execute_result"
    }
   ],
   "source": [
    "train['country'].unique()"
   ]
  },
  {
   "cell_type": "code",
   "execution_count": 10,
   "metadata": {},
   "outputs": [
    {
     "data": {
      "text/plain": [
       "array(['Kaggle Advanced Techniques', 'Kaggle Getting Started',\n",
       "       'Kaggle Recipe Book', 'Kaggle for Kids: One Smart Goose'],\n",
       "      dtype=object)"
      ]
     },
     "execution_count": 10,
     "metadata": {},
     "output_type": "execute_result"
    }
   ],
   "source": [
    "train['product'].unique()"
   ]
  },
  {
   "cell_type": "markdown",
   "metadata": {},
   "source": [
    "Data contains combinations of store, country, and products for every date. Training data runs from 2017, 2018, 2019, 2020. Test data is 2021."
   ]
  },
  {
   "cell_type": "markdown",
   "metadata": {},
   "source": [
    "# Preprocessing"
   ]
  },
  {
   "cell_type": "code",
   "execution_count": 20,
   "metadata": {},
   "outputs": [],
   "source": [
    "# Setting up X and Y for train and Test \n",
    "X_train = train[train.columns.drop(['row_id','num_sold'])]\n",
    "y_train = train['num_sold']\n",
    "X_test = test[test.columns.drop(['row_id'])]"
   ]
  },
  {
   "cell_type": "code",
   "execution_count": 21,
   "metadata": {},
   "outputs": [],
   "source": [
    "### Covid feature seems to hurt results\n",
    "# Fuction that adds covid feature\n",
    "def covid(date):\n",
    "    year, month, day = date.split('-')\n",
    "    if int(year) > 2020:\n",
    "        return 1\n",
    "    if int(year) < 2020:\n",
    "        return 0\n",
    "    if int(month) > 3:\n",
    "        return 1\n",
    "    if int(month) < 3:\n",
    "        return 0\n",
    "    if int(day) < 19:\n",
    "        return 0\n",
    "    return 1"
   ]
  },
  {
   "cell_type": "code",
   "execution_count": 22,
   "metadata": {},
   "outputs": [],
   "source": [
    "# Between Christmas and New Years\n",
    "def christmas_new_year(date):\n",
    "    year, month, day = date.split('-')\n",
    "    if int(month) == 12 and int(day) > 25:\n",
    "        return 1\n",
    "    if int(month) == 1 and int(day) == 1:\n",
    "        return 1\n",
    "    return 0"
   ]
  },
  {
   "cell_type": "markdown",
   "metadata": {},
   "source": [
    "#### Adding Day of Week\n",
    "\n",
    "0 = monday, 1 = tuesday, etc"
   ]
  },
  {
   "cell_type": "code",
   "execution_count": 23,
   "metadata": {},
   "outputs": [],
   "source": [
    "def year_month_day(df):\n",
    "    \"\"\"Adds year month day and day of week\n",
    "    Drops date column\"\"\"\n",
    "    df = df.copy()\n",
    "    df['year'] = df['date'].map(lambda x: x.split('-')[0])\n",
    "    df['month'] = df['date'].map(lambda x: int(x.split('-')[1]))\n",
    "    df['day_num'] = df['date'].map(lambda x: x.split('-')[2])\n",
    "    df['day_name'] = df['date'].map(lambda x: datetime.datetime(int(x.split('-')[0]), \n",
    "                                                                int(x.split('-')[1]),\n",
    "                                                                int(x.split('-')[2])).weekday())\n",
    "    df['day_of_week_sin'] = np.sin(df['day_name'] * (2 * np.pi / 7))\n",
    "    df['day_of_week_cos'] = np.cos(df['day_name'] * (2 * np.pi / 7))\n",
    "    df['day_of_month_sin'] = np.sin(df['month'] * (2 * np.pi / 12))\n",
    "    df['day_of_month_cos'] = np.cos(df['month'] * (2 * np.pi / 12))\n",
    "    #df['covid'] = df.apply(lambda row: covid(row['date']), axis = 1)\n",
    "    df['christmas_time'] = df.apply(lambda row: christmas_new_year(row['date']), axis = 1)\n",
    "    df = df[df.columns.drop(['date', 'day_name', 'month','day_num'])]\n",
    "    \n",
    "    return df"
   ]
  },
  {
   "cell_type": "code",
   "execution_count": 24,
   "metadata": {},
   "outputs": [],
   "source": [
    "# Exporting to csv to explore\n",
    "def process_and_export(df,name):\n",
    "    \"\"\"Adds year month day and day of week\n",
    "    Drops date column\"\"\"\n",
    "    df = df.copy()\n",
    "    df['year'] = df['date'].map(lambda x: x.split('-')[0])\n",
    "    df['month'] = df['date'].map(lambda x: int(x.split('-')[1]))\n",
    "    df['day_num'] = df['date'].map(lambda x: x.split('-')[2])\n",
    "    df['day_name'] = df['date'].map(lambda x: datetime.datetime(int(x.split('-')[0]), \n",
    "                                                                int(x.split('-')[1]),\n",
    "                                                                int(x.split('-')[2])).weekday())\n",
    "    df['day_of_week_sin'] = np.sin(df['day_name'] * (2 * np.pi / 7))\n",
    "    df['day_of_week_cos'] = np.cos(df['day_name'] * (2 * np.pi / 7))\n",
    "    df['day_of_month_sin'] = np.sin(df['month'] * (2 * np.pi / 12))\n",
    "    df['day_of_month_cos'] = np.cos(df['month'] * (2 * np.pi / 12))\n",
    "    df['covid'] = df.apply(lambda row: covid(row['date']), axis = 1)\n",
    "    df['holiday'] = df.apply(lambda row: holiday(row['country'], row['date']), axis = 1)\n",
    "    #df = df[df.columns.drop(['date', 'day_name', 'month','day_num'])]\n",
    "    df.to_csv(name + '.csv', index = False)\n",
    "\n",
    "#X_train['y'] = y_train\n",
    "#process_and_export(X_train, 'training_for_eda')"
   ]
  },
  {
   "cell_type": "code",
   "execution_count": 25,
   "metadata": {
    "scrolled": true
   },
   "outputs": [],
   "source": [
    "X_train = year_month_day(X_train)\n",
    "X_test = year_month_day(X_test)"
   ]
  },
  {
   "cell_type": "code",
   "execution_count": 26,
   "metadata": {
    "scrolled": true
   },
   "outputs": [
    {
     "data": {
      "text/html": [
       "<div>\n",
       "<style scoped>\n",
       "    .dataframe tbody tr th:only-of-type {\n",
       "        vertical-align: middle;\n",
       "    }\n",
       "\n",
       "    .dataframe tbody tr th {\n",
       "        vertical-align: top;\n",
       "    }\n",
       "\n",
       "    .dataframe thead th {\n",
       "        text-align: right;\n",
       "    }\n",
       "</style>\n",
       "<table border=\"1\" class=\"dataframe\">\n",
       "  <thead>\n",
       "    <tr style=\"text-align: right;\">\n",
       "      <th></th>\n",
       "      <th>country</th>\n",
       "      <th>store</th>\n",
       "      <th>product</th>\n",
       "      <th>year</th>\n",
       "      <th>day_of_week_sin</th>\n",
       "      <th>day_of_week_cos</th>\n",
       "      <th>day_of_month_sin</th>\n",
       "      <th>day_of_month_cos</th>\n",
       "      <th>christmas_time</th>\n",
       "    </tr>\n",
       "  </thead>\n",
       "  <tbody>\n",
       "    <tr>\n",
       "      <th>0</th>\n",
       "      <td>Belgium</td>\n",
       "      <td>KaggleMart</td>\n",
       "      <td>Kaggle Advanced Techniques</td>\n",
       "      <td>2017</td>\n",
       "      <td>-0.781831</td>\n",
       "      <td>0.623490</td>\n",
       "      <td>5.000000e-01</td>\n",
       "      <td>0.866025</td>\n",
       "      <td>1</td>\n",
       "    </tr>\n",
       "    <tr>\n",
       "      <th>1</th>\n",
       "      <td>Belgium</td>\n",
       "      <td>KaggleMart</td>\n",
       "      <td>Kaggle Getting Started</td>\n",
       "      <td>2017</td>\n",
       "      <td>-0.781831</td>\n",
       "      <td>0.623490</td>\n",
       "      <td>5.000000e-01</td>\n",
       "      <td>0.866025</td>\n",
       "      <td>1</td>\n",
       "    </tr>\n",
       "    <tr>\n",
       "      <th>2</th>\n",
       "      <td>Belgium</td>\n",
       "      <td>KaggleMart</td>\n",
       "      <td>Kaggle Recipe Book</td>\n",
       "      <td>2017</td>\n",
       "      <td>-0.781831</td>\n",
       "      <td>0.623490</td>\n",
       "      <td>5.000000e-01</td>\n",
       "      <td>0.866025</td>\n",
       "      <td>1</td>\n",
       "    </tr>\n",
       "    <tr>\n",
       "      <th>3</th>\n",
       "      <td>Belgium</td>\n",
       "      <td>KaggleMart</td>\n",
       "      <td>Kaggle for Kids: One Smart Goose</td>\n",
       "      <td>2017</td>\n",
       "      <td>-0.781831</td>\n",
       "      <td>0.623490</td>\n",
       "      <td>5.000000e-01</td>\n",
       "      <td>0.866025</td>\n",
       "      <td>1</td>\n",
       "    </tr>\n",
       "    <tr>\n",
       "      <th>4</th>\n",
       "      <td>Belgium</td>\n",
       "      <td>KaggleRama</td>\n",
       "      <td>Kaggle Advanced Techniques</td>\n",
       "      <td>2017</td>\n",
       "      <td>-0.781831</td>\n",
       "      <td>0.623490</td>\n",
       "      <td>5.000000e-01</td>\n",
       "      <td>0.866025</td>\n",
       "      <td>1</td>\n",
       "    </tr>\n",
       "    <tr>\n",
       "      <th>...</th>\n",
       "      <td>...</td>\n",
       "      <td>...</td>\n",
       "      <td>...</td>\n",
       "      <td>...</td>\n",
       "      <td>...</td>\n",
       "      <td>...</td>\n",
       "      <td>...</td>\n",
       "      <td>...</td>\n",
       "      <td>...</td>\n",
       "    </tr>\n",
       "    <tr>\n",
       "      <th>70123</th>\n",
       "      <td>Spain</td>\n",
       "      <td>KaggleMart</td>\n",
       "      <td>Kaggle for Kids: One Smart Goose</td>\n",
       "      <td>2020</td>\n",
       "      <td>0.433884</td>\n",
       "      <td>-0.900969</td>\n",
       "      <td>-2.449294e-16</td>\n",
       "      <td>1.000000</td>\n",
       "      <td>1</td>\n",
       "    </tr>\n",
       "    <tr>\n",
       "      <th>70124</th>\n",
       "      <td>Spain</td>\n",
       "      <td>KaggleRama</td>\n",
       "      <td>Kaggle Advanced Techniques</td>\n",
       "      <td>2020</td>\n",
       "      <td>0.433884</td>\n",
       "      <td>-0.900969</td>\n",
       "      <td>-2.449294e-16</td>\n",
       "      <td>1.000000</td>\n",
       "      <td>1</td>\n",
       "    </tr>\n",
       "    <tr>\n",
       "      <th>70125</th>\n",
       "      <td>Spain</td>\n",
       "      <td>KaggleRama</td>\n",
       "      <td>Kaggle Getting Started</td>\n",
       "      <td>2020</td>\n",
       "      <td>0.433884</td>\n",
       "      <td>-0.900969</td>\n",
       "      <td>-2.449294e-16</td>\n",
       "      <td>1.000000</td>\n",
       "      <td>1</td>\n",
       "    </tr>\n",
       "    <tr>\n",
       "      <th>70126</th>\n",
       "      <td>Spain</td>\n",
       "      <td>KaggleRama</td>\n",
       "      <td>Kaggle Recipe Book</td>\n",
       "      <td>2020</td>\n",
       "      <td>0.433884</td>\n",
       "      <td>-0.900969</td>\n",
       "      <td>-2.449294e-16</td>\n",
       "      <td>1.000000</td>\n",
       "      <td>1</td>\n",
       "    </tr>\n",
       "    <tr>\n",
       "      <th>70127</th>\n",
       "      <td>Spain</td>\n",
       "      <td>KaggleRama</td>\n",
       "      <td>Kaggle for Kids: One Smart Goose</td>\n",
       "      <td>2020</td>\n",
       "      <td>0.433884</td>\n",
       "      <td>-0.900969</td>\n",
       "      <td>-2.449294e-16</td>\n",
       "      <td>1.000000</td>\n",
       "      <td>1</td>\n",
       "    </tr>\n",
       "  </tbody>\n",
       "</table>\n",
       "<p>70128 rows × 9 columns</p>\n",
       "</div>"
      ],
      "text/plain": [
       "       country       store                           product  year  \\\n",
       "0      Belgium  KaggleMart        Kaggle Advanced Techniques  2017   \n",
       "1      Belgium  KaggleMart            Kaggle Getting Started  2017   \n",
       "2      Belgium  KaggleMart                Kaggle Recipe Book  2017   \n",
       "3      Belgium  KaggleMart  Kaggle for Kids: One Smart Goose  2017   \n",
       "4      Belgium  KaggleRama        Kaggle Advanced Techniques  2017   \n",
       "...        ...         ...                               ...   ...   \n",
       "70123    Spain  KaggleMart  Kaggle for Kids: One Smart Goose  2020   \n",
       "70124    Spain  KaggleRama        Kaggle Advanced Techniques  2020   \n",
       "70125    Spain  KaggleRama            Kaggle Getting Started  2020   \n",
       "70126    Spain  KaggleRama                Kaggle Recipe Book  2020   \n",
       "70127    Spain  KaggleRama  Kaggle for Kids: One Smart Goose  2020   \n",
       "\n",
       "       day_of_week_sin  day_of_week_cos  day_of_month_sin  day_of_month_cos  \\\n",
       "0            -0.781831         0.623490      5.000000e-01          0.866025   \n",
       "1            -0.781831         0.623490      5.000000e-01          0.866025   \n",
       "2            -0.781831         0.623490      5.000000e-01          0.866025   \n",
       "3            -0.781831         0.623490      5.000000e-01          0.866025   \n",
       "4            -0.781831         0.623490      5.000000e-01          0.866025   \n",
       "...                ...              ...               ...               ...   \n",
       "70123         0.433884        -0.900969     -2.449294e-16          1.000000   \n",
       "70124         0.433884        -0.900969     -2.449294e-16          1.000000   \n",
       "70125         0.433884        -0.900969     -2.449294e-16          1.000000   \n",
       "70126         0.433884        -0.900969     -2.449294e-16          1.000000   \n",
       "70127         0.433884        -0.900969     -2.449294e-16          1.000000   \n",
       "\n",
       "       christmas_time  \n",
       "0                   1  \n",
       "1                   1  \n",
       "2                   1  \n",
       "3                   1  \n",
       "4                   1  \n",
       "...               ...  \n",
       "70123               1  \n",
       "70124               1  \n",
       "70125               1  \n",
       "70126               1  \n",
       "70127               1  \n",
       "\n",
       "[70128 rows x 9 columns]"
      ]
     },
     "execution_count": 26,
     "metadata": {},
     "output_type": "execute_result"
    }
   ],
   "source": [
    "X_train"
   ]
  },
  {
   "cell_type": "code",
   "execution_count": 28,
   "metadata": {},
   "outputs": [],
   "source": [
    "# Splitting Categorical and Numerics\n",
    "categoricals = ['country', 'store', 'product']\n",
    "numerics = ['year', 'day_of_week_sin', 'day_of_week_cos', 'day_of_month_sin', 'day_of_month_cos','christmas_time']\n",
    "\n",
    "X_train_cat = X_train[categoricals]\n",
    "X_train_num = X_train[numerics]\n",
    "\n",
    "X_test_cat = X_test[categoricals]\n",
    "X_test_num = X_test[numerics]"
   ]
  },
  {
   "cell_type": "code",
   "execution_count": 29,
   "metadata": {},
   "outputs": [],
   "source": [
    "# One hot encoding and combining\n",
    "enc = OneHotEncoder()\n",
    "\n",
    "X_train_cat = enc.fit_transform(X_train_cat)\n",
    "X_test_cat = enc.fit_transform(X_test_cat)"
   ]
  },
  {
   "cell_type": "code",
   "execution_count": 30,
   "metadata": {
    "scrolled": true
   },
   "outputs": [],
   "source": [
    "X_train = pd.concat([pd.DataFrame(X_train_cat.todense()), X_train_num], axis = 1)\n",
    "X_test = pd.concat([pd.DataFrame(X_test_cat.todense()), X_test_num], axis = 1)"
   ]
  },
  {
   "cell_type": "markdown",
   "metadata": {},
   "source": [
    "# Model"
   ]
  },
  {
   "cell_type": "code",
   "execution_count": 31,
   "metadata": {},
   "outputs": [],
   "source": [
    "# Defining Classifier\n",
    "clf = RandomForestClassifier()"
   ]
  },
  {
   "cell_type": "code",
   "execution_count": 32,
   "metadata": {},
   "outputs": [
    {
     "data": {
      "text/plain": [
       "RandomForestClassifier()"
      ]
     },
     "execution_count": 32,
     "metadata": {},
     "output_type": "execute_result"
    }
   ],
   "source": [
    "# Fitting and Predicting\n",
    "clf.fit(X_train, y_train)"
   ]
  },
  {
   "cell_type": "code",
   "execution_count": 33,
   "metadata": {},
   "outputs": [],
   "source": [
    "num_sold = clf.predict(X_test)"
   ]
  },
  {
   "cell_type": "code",
   "execution_count": 34,
   "metadata": {},
   "outputs": [],
   "source": [
    "row_id = test['row_id']"
   ]
  },
  {
   "cell_type": "markdown",
   "metadata": {},
   "source": [
    "# Submission File"
   ]
  },
  {
   "cell_type": "code",
   "execution_count": 35,
   "metadata": {},
   "outputs": [],
   "source": [
    "def write_submission(row_id, num_sold):\n",
    "    \"\"\"function to write submission from predictions\"\"\"\n",
    "    ans = pd.concat([row_id, num_sold], axis = 1)\n",
    "    ans.to_csv('submission.csv', index = False)"
   ]
  },
  {
   "cell_type": "code",
   "execution_count": 36,
   "metadata": {},
   "outputs": [],
   "source": [
    "write_submission(row_id, pd.Series(num_sold, name = 'num_sold'))"
   ]
  },
  {
   "cell_type": "code",
   "execution_count": null,
   "metadata": {},
   "outputs": [],
   "source": []
  }
 ],
 "metadata": {
  "kernelspec": {
   "display_name": "Python 3",
   "language": "python",
   "name": "python3"
  },
  "language_info": {
   "codemirror_mode": {
    "name": "ipython",
    "version": 3
   },
   "file_extension": ".py",
   "mimetype": "text/x-python",
   "name": "python",
   "nbconvert_exporter": "python",
   "pygments_lexer": "ipython3",
   "version": "3.8.5"
  }
 },
 "nbformat": 4,
 "nbformat_minor": 4
}
